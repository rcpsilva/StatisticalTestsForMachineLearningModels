{
 "cells": [
  {
   "cell_type": "code",
   "execution_count": null,
   "metadata": {},
   "outputs": [],
   "source": [
    "from irace2 import irace, norm_sample, truncated_poisson, truncated_skellam\n",
    "import numpy as np\n",
    "import random\n",
    "import scipy.stats as stats\n",
    "import xgboost as xgb\n",
    "from sklearn.model_selection import GridSearchCV, RandomizedSearchCV\n",
    "from tqdm import tqdm\n",
    "from sklearn import preprocessing\n",
    "import pandas as pd\n",
    "from xgboost import XGBRegressor, XGBClassifier\n",
    "from sklearn.linear_model import LogisticRegression\n",
    "from sklearn.ensemble import RandomForestRegressor, RandomForestClassifier\n",
    "import statsmodels.stats.weightstats as stats\n",
    "import scipy.stats as ss\n",
    "from sklearn.model_selection import train_test_split,StratifiedShuffleSplit,cross_val_score\n",
    "from scipy.stats import norm, poisson, skellam\n",
    "from copy import copy, deepcopy"
   ]
  },
  {
   "attachments": {},
   "cell_type": "markdown",
   "metadata": {},
   "source": [
    "## Get Data"
   ]
  },
  {
   "cell_type": "code",
   "execution_count": null,
   "metadata": {},
   "outputs": [],
   "source": [
    "df = pd.read_excel('Impulsividade.xls')"
   ]
  },
  {
   "cell_type": "code",
   "execution_count": null,
   "metadata": {},
   "outputs": [],
   "source": [
    "X = preprocessing.normalize(df.drop(columns=['BIS attentional',\n",
    "            'BIS motor',\n",
    "            'BIS nonplanning',\n",
    "            'BIS total',\n",
    "            'BIS 2F inhibitory control',\t\n",
    "            'BIS 2F nonplanning']).to_numpy())\n",
    "y = df['BIS attentional'].to_numpy()"
   ]
  },
  {
   "attachments": {},
   "cell_type": "markdown",
   "metadata": {},
   "source": [
    "## Models"
   ]
  },
  {
   "cell_type": "code",
   "execution_count": null,
   "metadata": {},
   "outputs": [],
   "source": [
    "#all the parameters being configures must be set beforehand\n",
    "models = [RandomForestRegressor(n_estimators=100,max_depth=5),\n",
    "    XGBRegressor(n_estimators=100,max_depth=6)]\n",
    "\n",
    "parameters_dict = {\n",
    "    'RandomForestRegressor': {'n_estimators': lambda loc: truncated_skellam(loc, mu1=10, mu2=10, min=1), \n",
    "                                'max_depth': lambda loc: truncated_skellam(loc, mu1=1, mu2=1, min=1)},\n",
    "    'XGBRegressor': {'sample_type': ['uniform','weighted'], \n",
    "                        'max_depth': lambda loc: truncated_skellam(loc, mu1=1, mu2=1, min=1)}\n",
    "}"
   ]
  },
  {
   "attachments": {},
   "cell_type": "markdown",
   "metadata": {},
   "source": [
    "## Run race"
   ]
  },
  {
   "cell_type": "code",
   "execution_count": null,
   "metadata": {},
   "outputs": [],
   "source": [
    "stat_test = ss.ttest_rel #stats.ttest_ind, stats.mannwhitneyu\n",
    "scoring = 'neg_mean_absolute_error'\n",
    "cv = 10\n",
    "\n",
    "pop, pop_scores = irace(models, X, y, lambda x: x > 100, stat_test, parameters_dict, pop_size = 20, cv = cv, scoring=scoring)\n"
   ]
  },
  {
   "cell_type": "code",
   "execution_count": null,
   "metadata": {},
   "outputs": [],
   "source": [
    "print('RF')\n",
    "scores = cross_val_score(models[0], X, y, cv=cv, scoring=scoring)    \n",
    "print(f'{np.mean(scores)} +- {np.std(scores)}')\n",
    "\n",
    "print('XGB')\n",
    "scores = cross_val_score(models[1], X, y, cv=cv, scoring=scoring)    \n",
    "print(f'{np.mean(scores)} +- {np.std(scores)}')\n",
    "\n",
    "print()\n",
    "for i in range(len(pop)):\n",
    "    print(pop[i])\n",
    "    scores = cross_val_score(pop[i], X, y, cv=cv, scoring=scoring) \n",
    "    print(f'{np.mean(scores)} +- {np.std(scores)}')"
   ]
  },
  {
   "cell_type": "code",
   "execution_count": null,
   "metadata": {},
   "outputs": [],
   "source": []
  }
 ],
 "metadata": {
  "kernelspec": {
   "display_name": "Python 3",
   "language": "python",
   "name": "python3"
  },
  "language_info": {
   "codemirror_mode": {
    "name": "ipython",
    "version": 3
   },
   "file_extension": ".py",
   "mimetype": "text/x-python",
   "name": "python",
   "nbconvert_exporter": "python",
   "pygments_lexer": "ipython3",
   "version": "3.11.1"
  },
  "orig_nbformat": 4,
  "vscode": {
   "interpreter": {
    "hash": "738f0abc388fde32d91a23dc48b434080bb97b14dd548d1e86272d1e373043ae"
   }
  }
 },
 "nbformat": 4,
 "nbformat_minor": 2
}
