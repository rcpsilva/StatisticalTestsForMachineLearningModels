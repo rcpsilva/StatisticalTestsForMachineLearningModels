{
 "cells": [
  {
   "cell_type": "code",
   "execution_count": 1,
   "metadata": {},
   "outputs": [],
   "source": [
    "from scipy.stats import norm\n",
    "from scipy.stats import poisson\n",
    "from sklearn.linear_model import LogisticRegression\n",
    "import numpy as np"
   ]
  },
  {
   "cell_type": "code",
   "execution_count": 2,
   "metadata": {},
   "outputs": [],
   "source": [
    "par_poisson = lambda mu: poisson(mu=mu)"
   ]
  },
  {
   "cell_type": "code",
   "execution_count": 3,
   "metadata": {},
   "outputs": [
    {
     "name": "stdout",
     "output_type": "stream",
     "text": [
      "<scipy.stats._distn_infrastructure.rv_discrete_frozen object at 0x0000027EFE9CF150>\n",
      "9.77\n",
      "1.92\n"
     ]
    }
   ],
   "source": [
    "dist = par_poisson(10)\n",
    "print(dist)\n",
    "p = dist.rvs(100)\n",
    "print(np.mean(p))\n",
    "\n",
    "dist = par_poisson(2)\n",
    "p = dist.rvs(100)\n",
    "print(np.mean(p))"
   ]
  },
  {
   "cell_type": "code",
   "execution_count": 5,
   "metadata": {},
   "outputs": [],
   "source": [
    "model = LogisticRegression()\n",
    "params ={'LogisticRegression': {'C': lambda loc : norm(loc=loc, scale=1),'penalty':['l2'],'solver':['lbfgs','newton-cg','sag']},\n",
    "        'XGBClassifier': {'n_estimators': lambda mu: poisson(mu=mu), 'max_depth': lambda mu: poisson(mu=mu)}}"
   ]
  },
  {
   "cell_type": "code",
   "execution_count": 11,
   "metadata": {},
   "outputs": [
    {
     "name": "stdout",
     "output_type": "stream",
     "text": [
      "C\n",
      "penalty\n",
      "solver\n"
     ]
    }
   ],
   "source": [
    "for p in params['LogisticRegression']:\n",
    "    print(p)"
   ]
  },
  {
   "cell_type": "code",
   "execution_count": 6,
   "metadata": {},
   "outputs": [],
   "source": [
    "parameters = params[type(model).__name__]"
   ]
  },
  {
   "cell_type": "code",
   "execution_count": 9,
   "metadata": {},
   "outputs": [
    {
     "data": {
      "text/plain": [
       "'l2'"
      ]
     },
     "execution_count": 9,
     "metadata": {},
     "output_type": "execute_result"
    }
   ],
   "source": [
    "model.penalty"
   ]
  },
  {
   "cell_type": "code",
   "execution_count": 12,
   "metadata": {},
   "outputs": [],
   "source": [
    "d = {'a':[1]}"
   ]
  },
  {
   "cell_type": "code",
   "execution_count": 13,
   "metadata": {},
   "outputs": [],
   "source": [
    "d['b'] = [1]"
   ]
  },
  {
   "cell_type": "code",
   "execution_count": 14,
   "metadata": {},
   "outputs": [
    {
     "data": {
      "text/plain": [
       "{'a': [1], 'b': [1]}"
      ]
     },
     "execution_count": 14,
     "metadata": {},
     "output_type": "execute_result"
    }
   ],
   "source": [
    "d"
   ]
  },
  {
   "cell_type": "code",
   "execution_count": 15,
   "metadata": {},
   "outputs": [],
   "source": [
    "model = LogisticRegression()"
   ]
  },
  {
   "cell_type": "code",
   "execution_count": 16,
   "metadata": {},
   "outputs": [
    {
     "data": {
      "text/plain": [
       "1.0"
      ]
     },
     "execution_count": 16,
     "metadata": {},
     "output_type": "execute_result"
    }
   ],
   "source": [
    "getattr(model,'C')"
   ]
  },
  {
   "cell_type": "code",
   "execution_count": 17,
   "metadata": {},
   "outputs": [],
   "source": [
    "setattr(model,'C',2)"
   ]
  },
  {
   "cell_type": "code",
   "execution_count": 18,
   "metadata": {},
   "outputs": [
    {
     "data": {
      "text/plain": [
       "2"
      ]
     },
     "execution_count": 18,
     "metadata": {},
     "output_type": "execute_result"
    }
   ],
   "source": [
    "getattr(model,'C')"
   ]
  },
  {
   "cell_type": "code",
   "execution_count": 20,
   "metadata": {},
   "outputs": [],
   "source": [
    "import random"
   ]
  },
  {
   "cell_type": "code",
   "execution_count": 21,
   "metadata": {},
   "outputs": [],
   "source": [
    "x = [[1,2,3],[2,3,4],[3,4,5]]"
   ]
  },
  {
   "cell_type": "code",
   "execution_count": 24,
   "metadata": {},
   "outputs": [],
   "source": [
    "y = random.sample(x,1)[0]"
   ]
  },
  {
   "cell_type": "code",
   "execution_count": 25,
   "metadata": {},
   "outputs": [
    {
     "data": {
      "text/plain": [
       "[1, 2, 3]"
      ]
     },
     "execution_count": 25,
     "metadata": {},
     "output_type": "execute_result"
    }
   ],
   "source": [
    "y"
   ]
  },
  {
   "cell_type": "code",
   "execution_count": 26,
   "metadata": {},
   "outputs": [],
   "source": [
    "y = [0]"
   ]
  },
  {
   "cell_type": "code",
   "execution_count": 27,
   "metadata": {},
   "outputs": [
    {
     "data": {
      "text/plain": [
       "[[1, 2, 3], [2, 3, 4], [3, 4, 5]]"
      ]
     },
     "execution_count": 27,
     "metadata": {},
     "output_type": "execute_result"
    }
   ],
   "source": [
    "x"
   ]
  },
  {
   "cell_type": "code",
   "execution_count": 1,
   "metadata": {},
   "outputs": [],
   "source": [
    "from copy import copy, deepcopy\n",
    "from irace2 import irace, dummy_stats_test\n",
    "import itertools\n",
    "import numpy as np\n",
    "from sampling_functions import norm_sample, truncated_poisson, truncated_skellam\n",
    "from sklearn.model_selection import GridSearchCV, RandomizedSearchCV, train_test_split,StratifiedShuffleSplit,cross_val_score\n",
    "from sklearn import preprocessing\n",
    "from sklearn.linear_model import LogisticRegression\n",
    "from sklearn.svm import SVC\n",
    "from sklearn.metrics import f1_score\n",
    "from sklearn.ensemble import RandomForestRegressor, RandomForestClassifier\n",
    "import scipy.stats as ss\n",
    "from scipy.stats import norm, poisson, skellam\n",
    "from tqdm import tqdm\n",
    "import pandas as pd\n",
    "import xgboost as xgb\n",
    "from xgboost import XGBRegressor, XGBClassifier"
   ]
  },
  {
   "cell_type": "code",
   "execution_count": 7,
   "metadata": {},
   "outputs": [],
   "source": [
    "models = [LogisticRegression(C=1), \n",
    "    RandomForestClassifier(n_estimators=100,max_depth=5,ccp_alpha=0.0),\n",
    "    SVC(C=1,coef0=0.0),\n",
    "    XGBClassifier(n_estimators=100,max_depth=6,subsample=1)]"
   ]
  },
  {
   "cell_type": "code",
   "execution_count": 8,
   "metadata": {},
   "outputs": [],
   "source": [
    "parameters_dict = {\n",
    "    'LogisticRegression': {'C': lambda loc : norm_sample(loc=loc, scale=1, min= 1e-2),\n",
    "                            'penalty':['l2'],\n",
    "                            'solver':['lbfgs','newton-cg','sag']},\n",
    "    'SVC':{'C':lambda loc : norm_sample(loc=loc, scale=1, min= 1e-2),\n",
    "            'coef0': lambda loc : norm_sample(loc=loc, scale=1, min= 1e-2),\n",
    "            'kernel':['linear','poly','rbf','sigmoid'],\n",
    "            'decision_function_shape':['ovo','ovr']},\n",
    "    'RandomForestClassifier': {'n_estimators': lambda loc: truncated_skellam(loc, mu1=10, mu2=10, min=1), \n",
    "                                'max_depth': lambda loc: truncated_skellam(loc, mu1=1, mu2=1, min=1),\n",
    "                                'max_features':['sqrt', 'log2', None],\n",
    "                                'ccp_alpha':lambda loc : norm_sample(loc=loc, scale=0.1, min= 1e-3)\n",
    "                                },\n",
    "    'XGBClassifier': {'tree_method': ['auto','exact','approx'], \n",
    "                        'max_depth': lambda loc: truncated_skellam(loc, mu1=1, mu2=1, min=1),\n",
    "                        'booster':['gbtree','dart'],\n",
    "                        'subsample':lambda loc : norm_sample(loc=loc, scale=0.3, min= 1e-2,max=1)}\n",
    "}"
   ]
  },
  {
   "cell_type": "code",
   "execution_count": 11,
   "metadata": {},
   "outputs": [],
   "source": [
    "population = {}\n",
    "for model in models:\n",
    "    par_names = parameters_dict[type(model).__name__]\n",
    "    par_val = {name: getattr(model, name) for name in par_names}\n",
    "    population.update({type(model).__name__:dict(par_val)})"
   ]
  },
  {
   "cell_type": "code",
   "execution_count": 14,
   "metadata": {},
   "outputs": [
    {
     "name": "stdout",
     "output_type": "stream",
     "text": [
      "{'C': 1, 'penalty': 'l2', 'solver': 'lbfgs'}\n",
      "{'n_estimators': 100, 'max_depth': 5, 'max_features': 'sqrt', 'ccp_alpha': 0.0}\n",
      "{'C': 1, 'coef0': 0.0, 'kernel': 'rbf', 'decision_function_shape': 'ovr'}\n",
      "{'tree_method': None, 'max_depth': 6, 'booster': None, 'subsample': 1}\n"
     ]
    }
   ],
   "source": [
    "for p in population:\n",
    "    print(population[p])"
   ]
  },
  {
   "cell_type": "code",
   "execution_count": 15,
   "metadata": {},
   "outputs": [
    {
     "name": "stdout",
     "output_type": "stream",
     "text": [
      "{'LogisticRegression': {'C': 1, 'penalty': 'l2', 'solver': 'lbfgs'}, 'RandomForestClassifier': {'n_estimators': 100, 'max_depth': 5, 'max_features': 'sqrt', 'ccp_alpha': 0.0}, 'SVC': {'C': 1, 'coef0': 0.0, 'kernel': 'rbf', 'decision_function_shape': 'ovr'}, 'XGBClassifier': {'tree_method': None, 'max_depth': 6, 'booster': None, 'subsample': 1}}\n"
     ]
    }
   ],
   "source": [
    "print(population)"
   ]
  },
  {
   "cell_type": "code",
   "execution_count": null,
   "metadata": {},
   "outputs": [],
   "source": []
  }
 ],
 "metadata": {
  "kernelspec": {
   "display_name": "Python 3",
   "language": "python",
   "name": "python3"
  },
  "language_info": {
   "codemirror_mode": {
    "name": "ipython",
    "version": 3
   },
   "file_extension": ".py",
   "mimetype": "text/x-python",
   "name": "python",
   "nbconvert_exporter": "python",
   "pygments_lexer": "ipython3",
   "version": "3.11.1"
  },
  "orig_nbformat": 4,
  "vscode": {
   "interpreter": {
    "hash": "738f0abc388fde32d91a23dc48b434080bb97b14dd548d1e86272d1e373043ae"
   }
  }
 },
 "nbformat": 4,
 "nbformat_minor": 2
}
